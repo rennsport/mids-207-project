{
 "cells": [
  {
   "cell_type": "code",
   "execution_count": 1,
   "metadata": {},
   "outputs": [],
   "source": [
    "# standard\n",
    "import pandas as pd\n",
    "import numpy as np\n",
    "import random\n",
    "import os\n",
    "\n",
    "# tf and keras\n",
    "import tensorflow as tf\n",
    "from tensorflow.keras.preprocessing.image import ImageDataGenerator, array_to_img, img_to_array, load_img\n",
    "from keras import models\n",
    "from keras import layers\n",
    "\n",
    "# plots and images\n",
    "import seaborn as sns\n",
    "import matplotlib.pyplot as plt\n",
    "from IPython.display import Image"
   ]
  },
  {
   "attachments": {},
   "cell_type": "markdown",
   "metadata": {},
   "source": [
    "## Dataset information as per Kaggle (https://www.kaggle.com/competitions/icr-identify-age-related-conditions/data)\n",
    "\n",
    "1. **train.csv** - The training set.\n",
    "   * `Id` Unique identifier for each observation.\n",
    "   * `AB-GL` Fifty-six anonymized health characteristics. All are numeric except for EJ, which is categorical.\n",
    "   * `Class` A binary target: 1 indicates the subject has been diagnosed with one of the three conditions, 0 indicates they have not.\n",
    "2. **test.csv** - The test set. Your goal is to predict the probability that a subject in this set belongs to each of the two classes.\n",
    "3. **greeks.csv** - Supplemental metadata, only available for the training set.\n",
    "   * `Alpha` Identifies the type of age-related condition, if present.\n",
    "     * `A` No age-related condition. Corresponds to class 0.\n",
    "     * `B`, `D`, `G` The three age-related conditions. Correspond to class 1.\n",
    "   * `Beta`, `Gamma`, `Delta` Three experimental characteristics.\n",
    "   * `Epsilon` The date the data for this subject was collected. Note that all of the data in the test set was collected after the training set was collected."
   ]
  },
  {
   "cell_type": "code",
   "execution_count": 4,
   "metadata": {},
   "outputs": [
    {
     "name": "stdout",
     "output_type": "stream",
     "text": [
      "Shape of greeks df: (617, 6)\n",
      "Shape of test df: (5, 57)\n",
      "Shape of train df: (617, 58)\n"
     ]
    }
   ],
   "source": [
    "greeks = pd.read_csv('../data/greeks.csv')\n",
    "test = pd.read_csv('../data/test.csv')\n",
    "train = pd.read_csv('../data/train.csv')\n",
    "\n",
    "greeks.columns = map(str.lower, greeks.columns)\n",
    "test.columns = map(str.lower, test.columns)\n",
    "train.columns = map(str.lower, train.columns)\n",
    "\n",
    "print('Shape of greeks df:', greeks.shape)\n",
    "print('Shape of test df:', test.shape)\n",
    "print('Shape of train df:', train.shape)\n",
    "\n",
    "df = pd.merge(train, greeks, on='id')"
   ]
  },
  {
   "cell_type": "code",
   "execution_count": 5,
   "metadata": {},
   "outputs": [
    {
     "data": {
      "text/plain": [
       "id         0\n",
       "ab         0\n",
       "af         0\n",
       "ah         0\n",
       "am         0\n",
       "          ..\n",
       "alpha      0\n",
       "beta       0\n",
       "gamma      0\n",
       "delta      0\n",
       "epsilon    0\n",
       "Length: 63, dtype: int64"
      ]
     },
     "execution_count": 5,
     "metadata": {},
     "output_type": "execute_result"
    }
   ],
   "source": [
    "df.isna().sum()"
   ]
  },
  {
   "cell_type": "code",
   "execution_count": 6,
   "metadata": {},
   "outputs": [
    {
     "name": "stdout",
     "output_type": "stream",
     "text": [
      "<class 'pandas.core.frame.DataFrame'>\n",
      "RangeIndex: 617 entries, 0 to 616\n",
      "Data columns (total 63 columns):\n",
      " #   Column   Non-Null Count  Dtype  \n",
      "---  ------   --------------  -----  \n",
      " 0   id       617 non-null    object \n",
      " 1   ab       617 non-null    float64\n",
      " 2   af       617 non-null    float64\n",
      " 3   ah       617 non-null    float64\n",
      " 4   am       617 non-null    float64\n",
      " 5   ar       617 non-null    float64\n",
      " 6   ax       617 non-null    float64\n",
      " 7   ay       617 non-null    float64\n",
      " 8   az       617 non-null    float64\n",
      " 9   bc       617 non-null    float64\n",
      " 10  bd       617 non-null    float64\n",
      " 11  bn       617 non-null    float64\n",
      " 12  bp       617 non-null    float64\n",
      " 13  bq       557 non-null    float64\n",
      " 14  br       617 non-null    float64\n",
      " 15  bz       617 non-null    float64\n",
      " 16  cb       615 non-null    float64\n",
      " 17  cc       614 non-null    float64\n",
      " 18  cd       617 non-null    float64\n",
      " 19  cf       617 non-null    float64\n",
      " 20  ch       617 non-null    float64\n",
      " 21  cl       617 non-null    float64\n",
      " 22  cr       617 non-null    float64\n",
      " 23  cs       617 non-null    float64\n",
      " 24  cu       617 non-null    float64\n",
      " 25  cw       617 non-null    float64\n",
      " 26  da       617 non-null    float64\n",
      " 27  de       617 non-null    float64\n",
      " 28  df       617 non-null    float64\n",
      " 29  dh       617 non-null    float64\n",
      " 30  di       617 non-null    float64\n",
      " 31  dl       617 non-null    float64\n",
      " 32  dn       617 non-null    float64\n",
      " 33  du       616 non-null    float64\n",
      " 34  dv       617 non-null    float64\n",
      " 35  dy       617 non-null    float64\n",
      " 36  eb       617 non-null    float64\n",
      " 37  ee       617 non-null    float64\n",
      " 38  eg       617 non-null    float64\n",
      " 39  eh       617 non-null    float64\n",
      " 40  ej       617 non-null    object \n",
      " 41  el       557 non-null    float64\n",
      " 42  ep       617 non-null    float64\n",
      " 43  eu       617 non-null    float64\n",
      " 44  fc       616 non-null    float64\n",
      " 45  fd       617 non-null    float64\n",
      " 46  fe       617 non-null    float64\n",
      " 47  fi       617 non-null    float64\n",
      " 48  fl       616 non-null    float64\n",
      " 49  fr       617 non-null    float64\n",
      " 50  fs       615 non-null    float64\n",
      " 51  gb       617 non-null    float64\n",
      " 52  ge       617 non-null    float64\n",
      " 53  gf       617 non-null    float64\n",
      " 54  gh       617 non-null    float64\n",
      " 55  gi       617 non-null    float64\n",
      " 56  gl       616 non-null    float64\n",
      " 57  class    617 non-null    int64  \n",
      " 58  alpha    617 non-null    object \n",
      " 59  beta     617 non-null    object \n",
      " 60  gamma    617 non-null    object \n",
      " 61  delta    617 non-null    object \n",
      " 62  epsilon  617 non-null    object \n",
      "dtypes: float64(55), int64(1), object(7)\n",
      "memory usage: 303.8+ KB\n"
     ]
    }
   ],
   "source": [
    "df.info()"
   ]
  },
  {
   "cell_type": "code",
   "execution_count": 7,
   "metadata": {},
   "outputs": [
    {
     "data": {
      "text/plain": [
       "[Text(0, 0.5, '')]"
      ]
     },
     "execution_count": 7,
     "metadata": {},
     "output_type": "execute_result"
    },
    {
     "data": {
      "image/png": "[encoded data removed]",
      "text/plain": [
       "<Figure size 640x480 with 2 Axes>"
      ]
     },
     "metadata": {},
     "output_type": "display_data"
    }
   ],
   "source": [
    "## Looking at distribution of conditions\n",
    "\n",
    "fig, (ax1, ax2) = plt.subplots(1, 2)\n",
    "\n",
    "g1 = sns.histplot(\n",
    "        data=greeks,\n",
    "        stat='count',\n",
    "        x='alpha',\n",
    "        ax=ax1\n",
    ")\n",
    "\n",
    "g2 = sns.histplot(\n",
    "        data=greeks.drop(greeks[greeks.alpha == 'A'].index),\n",
    "        stat='count',\n",
    "        x='alpha',\n",
    "        ax=ax2\n",
    ")\n",
    "g2.set(ylabel=None)\n"
   ]
  },
  {
   "cell_type": "code",
   "execution_count": 8,
   "metadata": {},
   "outputs": [
    {
     "name": "stdout",
     "output_type": "stream",
     "text": [
      "When looking at all three conditions and lack of conditions, 82.5% of the sample do not have conditions\n",
      "Condition B makes up 56.48% of the condtions\n",
      "Condition D makes up 16.67% of the condtions\n",
      "Condition G makes up 26.85% of the condtions\n"
     ]
    }
   ],
   "source": [
    "condition_counts = greeks.groupby('alpha', as_index=False).count()\n",
    "a_perc = (condition_counts[condition_counts.alpha == 'A'].id/condition_counts.id.sum())[0]\n",
    "print(f\"When looking at all three conditions and lack of conditions, {round(a_perc*100, 2)}% of the sample do not have conditions\")\n",
    "condition_counts.drop(condition_counts[condition_counts.alpha == 'A'].index, inplace=True)\n",
    "condition_counts['perc'] = condition_counts.id/condition_counts.id.sum()\n",
    "for index, row in condition_counts[['alpha','perc']].iterrows():\n",
    "    print(f'Condition {row[\"alpha\"]} makes up {round(row[\"perc\"] * 100, 2)}% of the condtions')"
   ]
  },
  {
   "cell_type": "code",
   "execution_count": 5,
   "metadata": {},
   "outputs": [],
   "source": [
    "# Replaces class with respective condition (should we do this? Maybe better to have in a different col)\n",
    "# train.loc[train.id == greeks.id, 'class'] = greeks.alpha"
   ]
  },
  {
   "cell_type": "code",
   "execution_count": null,
   "metadata": {},
   "outputs": [],
   "source": [
    "# cm = train.corr(numeric_only=False).values\n",
    "# hm = sns.heatmap(\n",
    "#     cm,\n",
    "#     row_names=train.columns,\n",
    "#     column_names=train.columns,\n",
    "#     figsize=(6, 6)\n",
    "# )"
   ]
  },
  {
   "cell_type": "code",
   "execution_count": 10,
   "metadata": {},
   "outputs": [],
   "source": [
    "min_max = train.agg(['min', 'max']).transpose()\n",
    "min_max[\"max\"] = pd.to_numeric(min_max['max'], errors='coerce')\n",
    "min_max[\"min\"] = pd.to_numeric(min_max['min'], errors='coerce')\n",
    "min_max = min_max.dropna()\n",
    "\n",
    "min_max = min_max[min_max['max'] <= 120]\n",
    "min_max = min_max[min_max['max'] >= 40]\n",
    "min_max = min_max[min_max['min'] >= 3]"
   ]
  },
  {
   "cell_type": "code",
   "execution_count": 10,
   "metadata": {},
   "outputs": [],
   "source": [
    "train['ej'].replace(to_replace=['A', 'B'], value=[0, 1], inplace=True)\n",
    "target_variable = train['class']\n",
    "features_variable=train.drop(['class', 'id'],axis=1)"
   ]
  },
  {
   "cell_type": "code",
   "execution_count": 20,
   "metadata": {},
   "outputs": [],
   "source": [
    "from sklearn.preprocessing import StandardScaler\n",
    "from sklearn.impute import KNNImputer\n",
    "\n",
    "imputer = KNNImputer(n_neighbors=2)\n",
    "features_variable = imputer.fit_transform(features_variable)\n",
    "\n",
    "standarized_data = StandardScaler().fit_transform(features_variable)"
   ]
  },
  {
   "cell_type": "code",
   "execution_count": 37,
   "metadata": {},
   "outputs": [],
   "source": [
    "from sklearn.manifold import TSNE\n",
    "model = TSNE(n_components=30, random_state=0,perplexity=50, n_iter=5000, method='exact')\n",
    "tsne_data = model.fit_transform(standarized_data)"
   ]
  },
  {
   "cell_type": "code",
   "execution_count": 38,
   "metadata": {},
   "outputs": [
    {
     "name": "stdout",
     "output_type": "stream",
     "text": [
      "(617, 30)\n"
     ]
    }
   ],
   "source": [
    "print(tsne_data.shape)"
   ]
  }
 ],
 "metadata": {
  "kernelspec": {
   "display_name": "w207_final",
   "language": "python",
   "name": "python3"
  },
  "language_info": {
   "codemirror_mode": {
    "name": "ipython",
    "version": 3
   },
   "file_extension": ".py",
   "mimetype": "text/x-python",
   "name": "python",
   "nbconvert_exporter": "python",
   "pygments_lexer": "ipython3",
   "version": "3.9.16"
  },
  "orig_nbformat": 4
 },
 "nbformat": 4,
 "nbformat_minor": 2
}
