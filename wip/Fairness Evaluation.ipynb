{
 "cells": [
  {
   "cell_type": "code",
   "execution_count": 1,
   "id": "e3aae85a",
   "metadata": {},
   "outputs": [
    {
     "name": "stderr",
     "output_type": "stream",
     "text": [
      "2023-08-06 23:15:33.559181: I tensorflow/tsl/cuda/cudart_stub.cc:28] Could not find cuda drivers on your machine, GPU will not be used.\n",
      "2023-08-06 23:15:33.587569: I tensorflow/tsl/cuda/cudart_stub.cc:28] Could not find cuda drivers on your machine, GPU will not be used.\n",
      "2023-08-06 23:15:33.588578: I tensorflow/core/platform/cpu_feature_guard.cc:182] This TensorFlow binary is optimized to use available CPU instructions in performance-critical operations.\n",
      "To enable the following instructions: AVX2 FMA, in other operations, rebuild TensorFlow with the appropriate compiler flags.\n",
      "2023-08-06 23:15:34.230952: W tensorflow/compiler/tf2tensorrt/utils/py_utils.cc:38] TF-TRT Warning: Could not find TensorRT\n"
     ]
    }
   ],
   "source": [
    "# !pip install mlxtend\n",
    "# standard \n",
    "import numpy as np\n",
    "import pandas as pd\n",
    "import random\n",
    "import os\n",
    "\n",
    "# data preprocessing\n",
    "from sklearn import preprocessing\n",
    "\n",
    "# exploratory analysis\n",
    "import matplotlib.pyplot as plt\n",
    "import mlxtend\n",
    "from mlxtend.plotting import scatterplotmatrix\n",
    "from mlxtend.plotting import heatmap\n",
    "import seaborn as sns #sb\n",
    "from IPython.display import Image\n",
    "\n",
    "# model fit\n",
    "import statsmodels.api as sm\n",
    "import tensorflow as tf\n",
    "from tensorflow.keras.preprocessing.image import ImageDataGenerator, array_to_img, img_to_array, load_img\n",
    "from keras import models\n",
    "from keras import layers\n",
    "\n",
    "# prediction\n",
    "from sklearn.model_selection import train_test_split\n",
    "from sklearn.linear_model import LinearRegression\n",
    "from sklearn.preprocessing import PolynomialFeatures\n",
    "from sklearn.pipeline import Pipeline\n",
    "from mlxtend.plotting import heatmap\n",
    "from sklearn.preprocessing import StandardScaler\n",
    "from sklearn.impute import KNNImputer\n",
    "from sklearn.manifold import TSNE\n",
    "from sklearn.model_selection import ParameterGrid\n",
    "from sklearn.decomposition import PCA\n",
    "from sklearn.decomposition import KernelPCA\n",
    "\n",
    "# This tells matplolib not to try opening a new window for each plot\n",
    "%matplotlib inline\n",
    "\n",
    "# silence warnings\n",
    "import warnings\n",
    "warnings.filterwarnings('ignore')\n",
    "\n",
    "from sklearn import tree\n",
    "from sklearn.tree import DecisionTreeClassifier\n",
    "from sklearn.ensemble import RandomForestClassifier\n",
    "\n",
    "\n",
    "# For producing decision tree diagrams.\n",
    "from IPython.core.display import Image, display\n",
    "import pydot\n",
    "from pydotplus import graph_from_dot_data\n",
    "from sklearn.tree import export_graphviz\n",
    "from sklearn.datasets import load_iris\n",
    "\n"
   ]
  },
  {
   "cell_type": "code",
   "execution_count": 2,
   "id": "c24d58fd",
   "metadata": {},
   "outputs": [],
   "source": [
    "EJ_A_X_Test = pd.read_csv(\n",
    "    '../Final Files/data/EJ_A_X_Test.csv',\n",
    "    delimiter='\\,'\n",
    ")\n",
    "EJ_A_Y_Test = pd.read_csv(\n",
    "    '../Final Files/data/EJ_A_Y_Test.csv',\n",
    "    delimiter='\\,'\n",
    ")\n",
    "EJ_B_X_Test = pd.read_csv(\n",
    "    '../Final Files/data/EJ_B_X_Test.csv',\n",
    "    delimiter='\\,'\n",
    ")\n",
    "EJ_B_Y_Test = pd.read_csv(\n",
    "    '../Final Files/data/EJ_B_Y_Test.csv',\n",
    "    delimiter='\\,'\n",
    ")"
   ]
  },
  {
   "cell_type": "code",
   "execution_count": 3,
   "id": "305101fd",
   "metadata": {},
   "outputs": [
    {
     "data": {
      "text/html": [
       "<div>\n",
       "<style scoped>\n",
       "    .dataframe tbody tr th:only-of-type {\n",
       "        vertical-align: middle;\n",
       "    }\n",
       "\n",
       "    .dataframe tbody tr th {\n",
       "        vertical-align: top;\n",
       "    }\n",
       "\n",
       "    .dataframe thead th {\n",
       "        text-align: right;\n",
       "    }\n",
       "</style>\n",
       "<table border=\"1\" class=\"dataframe\">\n",
       "  <thead>\n",
       "    <tr style=\"text-align: right;\">\n",
       "      <th></th>\n",
       "      <th>Unnamed: 0</th>\n",
       "      <th>class</th>\n",
       "    </tr>\n",
       "  </thead>\n",
       "  <tbody>\n",
       "    <tr>\n",
       "      <th>0</th>\n",
       "      <td>117</td>\n",
       "      <td>0</td>\n",
       "    </tr>\n",
       "    <tr>\n",
       "      <th>1</th>\n",
       "      <td>437</td>\n",
       "      <td>0</td>\n",
       "    </tr>\n",
       "    <tr>\n",
       "      <th>2</th>\n",
       "      <td>463</td>\n",
       "      <td>0</td>\n",
       "    </tr>\n",
       "    <tr>\n",
       "      <th>3</th>\n",
       "      <td>314</td>\n",
       "      <td>0</td>\n",
       "    </tr>\n",
       "    <tr>\n",
       "      <th>4</th>\n",
       "      <td>296</td>\n",
       "      <td>0</td>\n",
       "    </tr>\n",
       "  </tbody>\n",
       "</table>\n",
       "</div>"
      ],
      "text/plain": [
       "   Unnamed: 0  class\n",
       "0         117      0\n",
       "1         437      0\n",
       "2         463      0\n",
       "3         314      0\n",
       "4         296      0"
      ]
     },
     "execution_count": 3,
     "metadata": {},
     "output_type": "execute_result"
    }
   ],
   "source": [
    "EJ_A_Y_Test.head()"
   ]
  },
  {
   "cell_type": "code",
   "execution_count": 4,
   "id": "8c676ec3",
   "metadata": {},
   "outputs": [
    {
     "name": "stdout",
     "output_type": "stream",
     "text": [
      "shape:  (50, 25)\n",
      "shape:  (50, 2)\n",
      "shape:  (74, 25)\n",
      "shape:  (74, 2)\n"
     ]
    }
   ],
   "source": [
    "print(\"shape: \", EJ_A_X_Test.shape)\n",
    "print(\"shape: \", EJ_A_Y_Test.shape)\n",
    "print(\"shape: \", EJ_B_X_Test.shape)\n",
    "print(\"shape: \", EJ_B_Y_Test.shape)"
   ]
  },
  {
   "cell_type": "code",
   "execution_count": 5,
   "id": "7af42f4a",
   "metadata": {},
   "outputs": [
    {
     "name": "stdout",
     "output_type": "stream",
     "text": [
      "Accuracy: 1.0\n"
     ]
    }
   ],
   "source": [
    "import pandas as pd\n",
    "from sklearn.ensemble import RandomForestClassifier\n",
    "from sklearn.metrics import confusion_matrix, classification_report\n",
    "\n",
    "# Select a single target feature for subgroup A \n",
    "EJ_A_Y_Test_single = EJ_A_Y_Test.iloc[:, 1]\n",
    "\n",
    "# Step 1: Create Random Forest Model for Subgroup A\n",
    "model_subgroup_A = RandomForestClassifier(random_state=0, n_estimators=200, max_depth=10, )\n",
    "\n",
    "# Step 2: Fit the Random Forest Model for Subgroup A\n",
    "model_subgroup_A.fit(EJ_A_X_Test, EJ_A_Y_Test_single)\n",
    "\n",
    "# Step 3: Make Predictions for Subgroup A using the Test Set\n",
    "predictions_subgroup_A = model_subgroup_A.predict(EJ_A_X_Test)\n",
    "\n",
    "print ('Accuracy:', model_subgroup_A.score(EJ_A_X_Test, EJ_A_Y_Test_single))"
   ]
  },
  {
   "cell_type": "code",
   "execution_count": 6,
   "id": "f56ba5a3",
   "metadata": {},
   "outputs": [
    {
     "data": {
      "image/png": "[encoded data removed]",
      "text/plain": [
       "<Figure size 432x288 with 1 Axes>"
      ]
     },
     "metadata": {
      "needs_background": "light"
     },
     "output_type": "display_data"
    }
   ],
   "source": [
    "# Step 4: Analyze Confusion Matrix for Subgroup A\n",
    "confusion_matrix = tf.math.confusion_matrix(EJ_A_Y_Test_single, predictions_subgroup_A)  \n",
    "\n",
    "label_names = np.unique(EJ_A_Y_Test_single)\n",
    "ax = sns.heatmap(confusion_matrix, annot=True, fmt='.3g', cmap='Blues',  \n",
    "                 xticklabels = label_names, yticklabels = label_names, cbar=False)\n",
    "\n",
    "ax.set(xlabel='Predicted Label', ylabel='True Label')\n",
    "plt.show()\n"
   ]
  },
  {
   "cell_type": "code",
   "execution_count": 7,
   "id": "f4f5c663",
   "metadata": {},
   "outputs": [
    {
     "name": "stdout",
     "output_type": "stream",
     "text": [
      "Accuracy: 1.0\n"
     ]
    }
   ],
   "source": [
    "# Select a single target feature for subgroup B \n",
    "EJ_B_Y_Test_single = EJ_B_Y_Test.iloc[:, 1]\n",
    "\n",
    "# Step 1: Create Random Forest Model for Subgroup B\n",
    "model_subgroup_B = RandomForestClassifier(random_state=0, n_estimators=200, max_depth=10, min_samples_split = 2)\n",
    "\n",
    "# Step 2: Fit the Random Forest Model for Subgroup B\n",
    "model_subgroup_B.fit(EJ_B_X_Test, EJ_B_Y_Test_single)\n",
    "\n",
    "# Step 3: Make Predictions for Subgroup B using the Test Set\n",
    "predictions_subgroup_B = model_subgroup_B.predict(EJ_B_X_Test)\n",
    "\n",
    "print ('Accuracy:', model_subgroup_B.score(EJ_B_X_Test, EJ_B_Y_Test_single))"
   ]
  },
  {
   "cell_type": "code",
   "execution_count": 8,
   "id": "660ce181",
   "metadata": {},
   "outputs": [
    {
     "data": {
      "image/png": "[encoded data removed]",
      "text/plain": [
       "<Figure size 432x288 with 1 Axes>"
      ]
     },
     "metadata": {
      "needs_background": "light"
     },
     "output_type": "display_data"
    }
   ],
   "source": [
    "# Step 4: Analyze Confusion Matrix for Subgroup B\n",
    "confusion_matrix = tf.math.confusion_matrix(EJ_B_Y_Test_single, predictions_subgroup_B)  \n",
    "\n",
    "label_names = np.unique(EJ_A_Y_Test_single)\n",
    "ax = sns.heatmap(confusion_matrix, annot=True, fmt='.3g', cmap='Blues',  \n",
    "                 xticklabels = label_names, yticklabels = label_names, cbar=False)\n",
    "\n",
    "ax.set(xlabel='Predicted Label', ylabel='True Label')\n",
    "plt.show()\n"
   ]
  },
  {
   "cell_type": "code",
   "execution_count": null,
   "id": "b7f6c5d1",
   "metadata": {},
   "outputs": [],
   "source": []
  }
 ],
 "metadata": {
  "kernelspec": {
   "display_name": "Python 3 (ipykernel)",
   "language": "python",
   "name": "python3"
  },
  "language_info": {
   "codemirror_mode": {
    "name": "ipython",
    "version": 3
   },
   "file_extension": ".py",
   "mimetype": "text/x-python",
   "name": "python",
   "nbconvert_exporter": "python",
   "pygments_lexer": "ipython3",
   "version": "3.9.12"
  }
 },
 "nbformat": 4,
 "nbformat_minor": 5
}
