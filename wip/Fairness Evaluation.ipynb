{
 "cells": [
  {
   "cell_type": "markdown",
   "id": "baff09d9",
   "metadata": {},
   "source": [
    "## Fairness Evaluation"
   ]
  },
  {
   "cell_type": "markdown",
   "id": "2b37356e",
   "metadata": {},
   "source": [
    "Using a confusion matrix to test fairness in a dataset with a categorical variable involves examining the performance of a machine learning model on different subgroups defined by that variable. Fairness assessment aims to identify any potential disparities in the model's predictions across different groups. The following steps were followed for fairness testing:\n",
    "\n",
    "Step 1: Define the Protected Attribute\n",
    "\n",
    "Identify the categorical variable that represents the protected attribute, such as gender, race, or age. This attribute should be protected to ensure fairness in the model's predictions.\n",
    "\n",
    "Step 2: Split the Data\n",
    "\n",
    "Divide your dataset into subgroups based on the protected attribute, in this case, 'EJ'.\n",
    "\n",
    "Step 3: Train the Model\n",
    "\n",
    "Train your machine learning model on the training dataset. Use the Random Forest model as it was the most accurate model in our previous trainings.\n",
    "\n",
    "Step 4: Make Predictions\n",
    "\n",
    "Use the trained model to make predictions on the test dataset for each subgroup separately. Compute the confusion matrix for each subgroup's predictions.\n",
    "\n",
    "Step 5: Analyze the Confusion Matrix\n",
    "\n",
    "For each confusion matrix, analyze the performance metrics to assess fairness. Key metrics to consider include:\n",
    "\n",
    "- True Positive (TP): The number of instances correctly predicted as positive.\n",
    "- False Positive (FP): The number of instances incorrectly predicted as positive.\n",
    "- True Negative (TN): The number of instances correctly predicted as negative.\n",
    "- False Negative (FN): The number of instances incorrectly predicted as negative.\n",
    "\n",
    "Step 6: Assess Fairness\n",
    "\n",
    "To assess fairness, compare the performance metrics (TP, FP, TN, FN) across different subgroups defined by the protected attribute. Look for significant disparities in these metrics, indicating potential bias in the model's predictions.\n",
    "\n",
    "Common fairness measures include:\n",
    "\n",
    "- False Positive Rate (FPR): FP / (FP + TN)\n",
    "- False Negative Rate (FNR): FN / (TP + FN)\n",
    "- False Discovery Rate (FDR): FP / (FP + TP)\n",
    "- False Omission Rate (FOR): FN / (FN + TN)\n",
    "- Accuracy: (TP + TN) / (TP + TN + FP + FN)"
   ]
  },
  {
   "cell_type": "markdown",
   "id": "ce2f199d",
   "metadata": {},
   "source": [
    "### Import Packages"
   ]
  },
  {
   "cell_type": "code",
   "execution_count": 1,
   "id": "e3aae85a",
   "metadata": {},
   "outputs": [
    {
     "name": "stderr",
     "output_type": "stream",
     "text": [
      "2023-08-08 02:58:31.919064: I tensorflow/tsl/cuda/cudart_stub.cc:28] Could not find cuda drivers on your machine, GPU will not be used.\n",
      "2023-08-08 02:58:31.979530: I tensorflow/tsl/cuda/cudart_stub.cc:28] Could not find cuda drivers on your machine, GPU will not be used.\n",
      "2023-08-08 02:58:31.981378: I tensorflow/core/platform/cpu_feature_guard.cc:182] This TensorFlow binary is optimized to use available CPU instructions in performance-critical operations.\n",
      "To enable the following instructions: AVX2 FMA, in other operations, rebuild TensorFlow with the appropriate compiler flags.\n",
      "2023-08-08 02:58:32.958072: W tensorflow/compiler/tf2tensorrt/utils/py_utils.cc:38] TF-TRT Warning: Could not find TensorRT\n"
     ]
    }
   ],
   "source": [
    "# !pip install mlxtend\n",
    "# standard \n",
    "import numpy as np\n",
    "import pandas as pd\n",
    "import random\n",
    "import os\n",
    "\n",
    "# data preprocessing\n",
    "from sklearn import preprocessing\n",
    "\n",
    "# exploratory analysis\n",
    "import matplotlib.pyplot as plt\n",
    "import mlxtend\n",
    "from mlxtend.plotting import scatterplotmatrix\n",
    "from mlxtend.plotting import heatmap\n",
    "import seaborn as sns #sb\n",
    "from IPython.display import Image\n",
    "\n",
    "# model fit\n",
    "import statsmodels.api as sm\n",
    "import tensorflow as tf\n",
    "from tensorflow.keras.preprocessing.image import ImageDataGenerator, array_to_img, img_to_array, load_img\n",
    "from keras import models\n",
    "from keras import layers\n",
    "\n",
    "# prediction\n",
    "from sklearn.model_selection import train_test_split\n",
    "from sklearn.linear_model import LinearRegression\n",
    "from sklearn.preprocessing import PolynomialFeatures\n",
    "from sklearn.pipeline import Pipeline\n",
    "from mlxtend.plotting import heatmap\n",
    "from sklearn.preprocessing import StandardScaler\n",
    "from sklearn.impute import KNNImputer\n",
    "from sklearn.manifold import TSNE\n",
    "from sklearn.model_selection import ParameterGrid\n",
    "from sklearn.decomposition import PCA\n",
    "from sklearn.decomposition import KernelPCA\n",
    "\n",
    "# This tells matplolib not to try opening a new window for each plot\n",
    "%matplotlib inline\n",
    "\n",
    "# silence warnings\n",
    "import warnings\n",
    "warnings.filterwarnings('ignore')\n",
    "\n",
    "from sklearn import tree\n",
    "from sklearn.tree import DecisionTreeClassifier\n",
    "from sklearn.ensemble import RandomForestClassifier\n",
    "\n",
    "\n",
    "# For producing decision tree diagrams.\n",
    "from IPython.core.display import Image, display\n",
    "import pydot\n",
    "from pydotplus import graph_from_dot_data\n",
    "from sklearn.tree import export_graphviz\n",
    "from sklearn.datasets import load_iris\n",
    "\n"
   ]
  },
  {
   "cell_type": "markdown",
   "id": "71347666",
   "metadata": {},
   "source": [
    "### Read csvs"
   ]
  },
  {
   "cell_type": "code",
   "execution_count": 2,
   "id": "c24d58fd",
   "metadata": {},
   "outputs": [],
   "source": [
    "EJ_A_X_Test_std = pd.read_csv(\n",
    "    '../Final Files/data/EJ_A_X_Test_std.csv',\n",
    "    delimiter='\\,'\n",
    ")\n",
    "EJ_A_Y_Test = pd.read_csv(\n",
    "    '../Final Files/data/EJ_A_Y_Test.csv',\n",
    "    delimiter='\\,'\n",
    ")\n",
    "EJ_B_X_Test_std = pd.read_csv(\n",
    "    '../Final Files/data/EJ_B_X_Test_std.csv',\n",
    "    delimiter='\\,'\n",
    ")\n",
    "EJ_B_Y_Test = pd.read_csv(\n",
    "    '../Final Files/data/EJ_B_Y_Test.csv',\n",
    "    delimiter='\\,'\n",
    ")\n",
    "X_train_std = pd.read_csv(\n",
    "    '../Final Files/data/X_train_std.csv',\n",
    "    delimiter='\\,'\n",
    ")\n",
    "X_test_std = pd.read_csv(\n",
    "    '../Final Files/data/X_test_std.csv',\n",
    "    delimiter='\\,'\n",
    ")\n",
    "Y_train = pd.read_csv(\n",
    "    '../Final Files/data/Y_train.csv',\n",
    "    delimiter='\\,'\n",
    ")\n",
    "Y_test = pd.read_csv(\n",
    "    '../Final Files/data/Y_test.csv',\n",
    "    delimiter='\\,'\n",
    ")"
   ]
  },
  {
   "cell_type": "code",
   "execution_count": 3,
   "id": "8c676ec3",
   "metadata": {},
   "outputs": [
    {
     "name": "stdout",
     "output_type": "stream",
     "text": [
      "shape:  (50, 58)\n",
      "shape:  (50, 2)\n",
      "shape:  (74, 58)\n",
      "shape:  (74, 2)\n",
      "shape:  (493, 58)\n",
      "shape:  (124, 58)\n",
      "shape:  (493, 2)\n",
      "shape:  (124, 2)\n"
     ]
    }
   ],
   "source": [
    "print(\"shape: \", EJ_A_X_Test_std.shape)\n",
    "print(\"shape: \", EJ_A_Y_Test.shape)\n",
    "print(\"shape: \", EJ_B_X_Test_std.shape)\n",
    "print(\"shape: \", EJ_B_Y_Test.shape)\n",
    "\n",
    "print(\"shape: \", X_train_std.shape)\n",
    "print(\"shape: \", X_test_std.shape)\n",
    "print(\"shape: \", Y_train.shape)\n",
    "print(\"shape: \", Y_test.shape)"
   ]
  },
  {
   "cell_type": "markdown",
   "id": "f7933234",
   "metadata": {},
   "source": [
    "### Population"
   ]
  },
  {
   "cell_type": "code",
   "execution_count": 4,
   "id": "04ec715a",
   "metadata": {},
   "outputs": [
    {
     "name": "stdout",
     "output_type": "stream",
     "text": [
      "Accuracy: 0.9274193548387096\n"
     ]
    }
   ],
   "source": [
    "import pandas as pd\n",
    "from sklearn.ensemble import RandomForestClassifier\n",
    "from sklearn.metrics import confusion_matrix, classification_report\n",
    "\n",
    "Y_train_single = Y_train.iloc[:, 1]\n",
    "Y_test_single = Y_test.iloc[:, 1]\n",
    "\n",
    "# Step 1: Create Random Forest Model for Population\n",
    "model_rf = RandomForestClassifier(random_state=0, n_estimators=100, max_depth=10, max_features='sqrt')\n",
    "\n",
    "# Step 2: Fit the Random Forest Model for Population\n",
    "model_rf.fit(X_train_std, Y_train_single)\n",
    "\n",
    "# Step 3: Make Predictions for Population using the Test Set\n",
    "predictions_pop = model_rf.predict(X_test_std)\n",
    "\n",
    "# Calculate Accuracy using accuracy_score\n",
    "accuracy = model_rf.score(X_test_std, Y_test_single)\n",
    "print('Accuracy:', accuracy)"
   ]
  },
  {
   "cell_type": "code",
   "execution_count": 5,
   "id": "b7847026",
   "metadata": {},
   "outputs": [
    {
     "data": {
      "image/png": "[encoded data removed]",
      "text/plain": [
       "<Figure size 432x288 with 1 Axes>"
      ]
     },
     "metadata": {
      "needs_background": "light"
     },
     "output_type": "display_data"
    }
   ],
   "source": [
    "# Step 4: Analyze Confusion Matrix for Subgroup B\n",
    "confusion_matrix = tf.math.confusion_matrix(Y_test_single, predictions_pop)  \n",
    "\n",
    "label_names = np.unique(Y_test_single)\n",
    "ax = sns.heatmap(confusion_matrix, annot=True, fmt='.3g', cmap='Blues',  \n",
    "                 xticklabels = label_names, yticklabels = label_names, cbar=False)\n",
    "\n",
    "ax.set(xlabel='Predicted Label', ylabel='True Label')\n",
    "ax.set_title('Confusion Matrix for Population Model')\n",
    "\n",
    "plt.show()\n"
   ]
  },
  {
   "cell_type": "code",
   "execution_count": 6,
   "id": "b20548cd",
   "metadata": {},
   "outputs": [
    {
     "name": "stdout",
     "output_type": "stream",
     "text": [
      "tf.keras.metrics\n",
      "Precision score: 0.882\n",
      "Recall score: 0.682\n",
      "F1 score: 0.769\n"
     ]
    }
   ],
   "source": [
    "#precision_score/recall_score/f1_score \n",
    "\n",
    "print(\"tf.keras.metrics\")  \n",
    "p = tf.keras.metrics.Precision(thresholds=None, top_k=None, class_id=None, name=None, dtype=None)\n",
    "p.update_state(Y_test_single, predictions_pop)  #update_state to update metric scores\n",
    "print(\"Precision score: %.3f\" %p.result().numpy())\n",
    "\n",
    "r = tf.keras.metrics.Recall(thresholds=None, top_k=None, class_id=None, name=None, dtype=None)\n",
    "r.update_state(Y_test_single, predictions_pop)\n",
    "print(\"Recall score: %.3f\" %r.result().numpy())\n",
    "\n",
    "print(f\"F1 score: {2*((p.result().numpy()*r.result().numpy())/(p.result().numpy()+r.result().numpy())):.3f}\")"
   ]
  },
  {
   "cell_type": "markdown",
   "id": "774e389a",
   "metadata": {},
   "source": [
    "### Subgroup A"
   ]
  },
  {
   "cell_type": "code",
   "execution_count": 7,
   "id": "7af42f4a",
   "metadata": {},
   "outputs": [
    {
     "name": "stdout",
     "output_type": "stream",
     "text": [
      "Accuracy: 0.98\n"
     ]
    }
   ],
   "source": [
    "import pandas as pd\n",
    "from sklearn.ensemble import RandomForestClassifier\n",
    "from sklearn.metrics import confusion_matrix, classification_report\n",
    "\n",
    "# Select a single target feature for subgroup A \n",
    "EJ_A_Y_Test_single = EJ_A_Y_Test.iloc[:, 1]\n",
    "Y_train_single = Y_train.iloc[:, 1]\n",
    "\n",
    "# Step 1: Create Random Forest Model for Subgroup A\n",
    "model_subgroup_A = RandomForestClassifier(random_state=0, n_estimators=100, max_depth=10, max_features='sqrt')\n",
    "\n",
    "# Step 2: Fit the Random Forest Model for Subgroup A\n",
    "model_subgroup_A.fit(X_train_std, Y_train_single)\n",
    "\n",
    "# Step 3: Make Predictions for Subgroup A using the Test Set\n",
    "predictions_subgroup_A = model_subgroup_A.predict(EJ_A_X_Test_std)\n",
    "\n",
    "print ('Accuracy:', model_subgroup_A.score(EJ_A_X_Test_std, EJ_A_Y_Test_single))"
   ]
  },
  {
   "cell_type": "code",
   "execution_count": 8,
   "id": "f56ba5a3",
   "metadata": {},
   "outputs": [
    {
     "data": {
      "image/png": "[encoded data removed]",
      "text/plain": [
       "<Figure size 432x288 with 1 Axes>"
      ]
     },
     "metadata": {
      "needs_background": "light"
     },
     "output_type": "display_data"
    }
   ],
   "source": [
    "# Step 4: Analyze Confusion Matrix for Subgroup A\n",
    "confusion_matrix = tf.math.confusion_matrix(EJ_A_Y_Test_single, predictions_subgroup_A)  \n",
    "\n",
    "label_names = np.unique(EJ_A_Y_Test_single)\n",
    "ax = sns.heatmap(confusion_matrix, annot=True, fmt='.3g', cmap='Blues',  \n",
    "                 xticklabels = label_names, yticklabels = label_names, cbar=False)\n",
    "\n",
    "ax.set(xlabel='Predicted Label', ylabel='True Label')\n",
    "ax.set_title('Confusion Matrix for Subgroup A Model (EJ Split)')\n",
    "\n",
    "plt.show()\n"
   ]
  },
  {
   "cell_type": "code",
   "execution_count": 9,
   "id": "9fc5616b",
   "metadata": {},
   "outputs": [
    {
     "name": "stdout",
     "output_type": "stream",
     "text": [
      "tf.keras.metrics\n",
      "Precision score: 1.000\n",
      "Recall score: 0.875\n",
      "F1 score: 0.933\n"
     ]
    }
   ],
   "source": [
    "#precision_score/recall_score/f1_score \n",
    "\n",
    "print(\"tf.keras.metrics\")  \n",
    "p = tf.keras.metrics.Precision(thresholds=None, top_k=None, class_id=None, name=None, dtype=None)\n",
    "p.update_state(EJ_A_Y_Test_single, predictions_subgroup_A)  #update_state to update metric scores\n",
    "print(\"Precision score: %.3f\" %p.result().numpy())\n",
    "\n",
    "r = tf.keras.metrics.Recall(thresholds=None, top_k=None, class_id=None, name=None, dtype=None)\n",
    "r.update_state(EJ_A_Y_Test_single, predictions_subgroup_A)\n",
    "print(\"Recall score: %.3f\" %r.result().numpy())\n",
    "\n",
    "print(f\"F1 score: {2*((p.result().numpy()*r.result().numpy())/(p.result().numpy()+r.result().numpy())):.3f}\")"
   ]
  },
  {
   "cell_type": "markdown",
   "id": "11cf4fca",
   "metadata": {},
   "source": [
    "### Subgroup B"
   ]
  },
  {
   "cell_type": "code",
   "execution_count": 10,
   "id": "f4f5c663",
   "metadata": {},
   "outputs": [
    {
     "name": "stdout",
     "output_type": "stream",
     "text": [
      "Accuracy: 0.8918918918918919\n"
     ]
    }
   ],
   "source": [
    "# Select a single target feature for subgroup B \n",
    "EJ_B_Y_Test_single = EJ_B_Y_Test.iloc[:, 1]\n",
    "Y_train_single = Y_train.iloc[:, 1]\n",
    "\n",
    "# Step 1: Create Random Forest Model for Subgroup B\n",
    "model_subgroup_B = RandomForestClassifier(random_state=0, n_estimators=100, max_depth=10, max_features='sqrt')\n",
    "\n",
    "# Step 2: Fit the Random Forest Model for Subgroup B\n",
    "model_subgroup_B.fit(X_train_std, Y_train_single)\n",
    "\n",
    "# Step 3: Make Predictions for Subgroup B using the Test Set\n",
    "predictions_subgroup_B = model_subgroup_B.predict(EJ_B_X_Test_std)\n",
    "\n",
    "print ('Accuracy:', model_subgroup_B.score(EJ_B_X_Test_std, EJ_B_Y_Test_single))"
   ]
  },
  {
   "cell_type": "code",
   "execution_count": 11,
   "id": "660ce181",
   "metadata": {},
   "outputs": [
    {
     "data": {
      "image/png": "[encoded data removed]",
      "text/plain": [
       "<Figure size 432x288 with 1 Axes>"
      ]
     },
     "metadata": {
      "needs_background": "light"
     },
     "output_type": "display_data"
    }
   ],
   "source": [
    "# Step 4: Analyze Confusion Matrix for Subgroup B\n",
    "confusion_matrix = tf.math.confusion_matrix(EJ_B_Y_Test_single, predictions_subgroup_B)  \n",
    "\n",
    "label_names = np.unique(EJ_B_Y_Test_single)\n",
    "ax = sns.heatmap(confusion_matrix, annot=True, fmt='.3g', cmap='Blues',  \n",
    "                 xticklabels = label_names, yticklabels = label_names, cbar=False)\n",
    "\n",
    "ax.set(xlabel='Predicted Label', ylabel='True Label')\n",
    "ax.set_title('Confusion Matrix for Subgroup B Model (EJ Split)')\n",
    "plt.show()\n"
   ]
  },
  {
   "cell_type": "code",
   "execution_count": 12,
   "id": "b7f6c5d1",
   "metadata": {},
   "outputs": [
    {
     "name": "stdout",
     "output_type": "stream",
     "text": [
      "tf.keras.metrics\n",
      "Precision score: 0.800\n",
      "Recall score: 0.571\n",
      "F1 score: 0.667\n"
     ]
    }
   ],
   "source": [
    "#precision_score/recall_score/f1_score \n",
    "\n",
    "print(\"tf.keras.metrics\")  \n",
    "p = tf.keras.metrics.Precision(thresholds=None, top_k=None, class_id=None, name=None, dtype=None)\n",
    "p.update_state(EJ_B_Y_Test_single, predictions_subgroup_B)  #update_state to update metric scores\n",
    "print(\"Precision score: %.3f\" %p.result().numpy())\n",
    "\n",
    "r = tf.keras.metrics.Recall(thresholds=None, top_k=None, class_id=None, name=None, dtype=None)\n",
    "r.update_state(EJ_B_Y_Test_single, predictions_subgroup_B)\n",
    "print(\"Recall score: %.3f\" %r.result().numpy())\n",
    "\n",
    "print(f\"F1 score: {2*((p.result().numpy()*r.result().numpy())/(p.result().numpy()+r.result().numpy())):.3f}\")"
   ]
  }
 ],
 "metadata": {
  "kernelspec": {
   "display_name": "Python 3 (ipykernel)",
   "language": "python",
   "name": "python3"
  },
  "language_info": {
   "codemirror_mode": {
    "name": "ipython",
    "version": 3
   },
   "file_extension": ".py",
   "mimetype": "text/x-python",
   "name": "python",
   "nbconvert_exporter": "python",
   "pygments_lexer": "ipython3",
   "version": "3.9.12"
  }
 },
 "nbformat": 4,
 "nbformat_minor": 5
}
