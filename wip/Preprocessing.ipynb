{
 "cells": [
  {
   "cell_type": "markdown",
   "metadata": {},
   "source": [
    "## Dataset information as per Kaggle (https://www.kaggle.com/competitions/icr-identify-age-related-conditions/data)\n",
    "\n",
    "1. **train.csv** - The training set.\n",
    "   * `Id` Unique identifier for each observation.\n",
    "   * `AB-GL` Fifty-six anonymized health characteristics. All are numeric except for EJ, which is categorical.\n",
    "   * `Class` A binary target: 1 indicates the subject has been diagnosed with one of the three conditions, 0 indicates they have not.\n",
    "2. **test.csv** - The test set. Your goal is to predict the probability that a subject in this set belongs to each of the two classes.\n",
    "3. **greeks.csv** - Supplemental metadata, only available for the training set.\n",
    "   * `Alpha` Identifies the type of age-related condition, if present.\n",
    "     * `A` No age-related condition. Corresponds to class 0.\n",
    "     * `B`, `D`, `G` The three age-related conditions. Correspond to class 1.\n",
    "   * `Beta`, `Gamma`, `Delta` Three experimental characteristics.\n",
    "   * `Epsilon` The date the data for this subject was collected. Note that all of the data in the test set was collected after the training set was collected."
   ]
  },
  {
   "cell_type": "code",
   "execution_count": 19,
   "metadata": {},
   "outputs": [],
   "source": [
    "# standard\n",
    "import pandas as pd\n",
    "import numpy as np\n",
    "import random\n",
    "import os\n",
    "\n",
    "# tf, keras, and sklearn\n",
    "import tensorflow as tf\n",
    "from tensorflow.keras.preprocessing.image import ImageDataGenerator, array_to_img, img_to_array, load_img\n",
    "from keras import models\n",
    "from keras import layers\n",
    "from sklearn.preprocessing import StandardScaler\n",
    "from sklearn.impute import KNNImputer\n",
    "from sklearn.manifold import TSNE\n",
    "from sklearn.model_selection import train_test_split\n",
    "from sklearn.decomposition import PCA\n",
    "\n",
    "# Unused atm\n",
    "from sklearn.decomposition import KernelPCA\n",
    "\n",
    "# Stats library\n",
    "import statsmodels.api as sm\n",
    "\n",
    "# plots and images\n",
    "import seaborn as sns\n",
    "import matplotlib.pyplot as plt\n",
    "from IPython.display import Image"
   ]
  },
  {
   "cell_type": "code",
   "execution_count": 2,
   "metadata": {},
   "outputs": [
    {
     "name": "stdout",
     "output_type": "stream",
     "text": [
      "Shape of greeks df: (617, 6)\n",
      "Shape of test df: (5, 57)\n",
      "Shape of train df: (617, 58)\n"
     ]
    }
   ],
   "source": [
    "greeks = pd.read_csv('../data/greeks.csv')\n",
    "test = pd.read_csv('../data/test.csv')\n",
    "train = pd.read_csv('../data/train.csv')\n",
    "\n",
    "greeks.columns = map(str.lower, greeks.columns)\n",
    "test.columns = map(str.lower, test.columns)\n",
    "train.columns = map(str.lower, train.columns)\n",
    "\n",
    "print('Shape of greeks df:', greeks.shape)\n",
    "print('Shape of test df:', test.shape)\n",
    "print('Shape of train df:', train.shape)\n",
    "\n",
    "# Merge train and greeks to get all columns in the same DataFrame\n",
    "df = pd.merge(train, greeks, on='id')"
   ]
  },
  {
   "cell_type": "code",
   "execution_count": 3,
   "metadata": {},
   "outputs": [],
   "source": [
    "# Encoded EJ as 0 or 1 so it could be used in tSNE\n",
    "df['ej'].replace(to_replace=['A', 'B'], value=[0, 1], inplace=True)\n",
    "\n",
    "# Multiclass target variable\n",
    "target_variable_multiclass = df['alpha']\n",
    "\n",
    "# Binary target variable\n",
    "target_variable = df['class']\n",
    "features_variable = df.drop(['class', 'id', 'alpha', 'beta', 'gamma', 'delta', 'epsilon'], axis=1)\n",
    "\n",
    "# Fill in NaN values via KNNImputer\n",
    "imputer = KNNImputer(n_neighbors=2)\n",
    "features_variable = imputer.fit_transform(features_variable)\n",
    "\n"
   ]
  },
  {
   "cell_type": "code",
   "execution_count": 16,
   "metadata": {},
   "outputs": [],
   "source": [
    "def feature_reduction(method, num_features, data_split):\n",
    "    if method == 'pca':\n",
    "        # Split into Train and Test\n",
    "        X_train, X_test, y_train, y_test = train_test_split(features_variable, target_variable, test_size = data_split,\n",
    "                                                   stratify=target_variable, random_state=0)\n",
    "        # Standardize values via StandardScaler\n",
    "        sc = StandardScaler().fit(X_train)\n",
    "\n",
    "        X_train_std = sc.transform(X_train)\n",
    "        X_test_std = sc.transform(X_test)\n",
    "\n",
    "        # PCA\n",
    "        pca = PCA(n_components = num_features)\n",
    "        pca.fit(X_train_std)\n",
    "        X_train_pca = pd.DataFrame(pca.transform(X_train_std))\n",
    "        X_test_pca = pd.DataFrame(pca.transform(X_test_std))\n",
    "\n",
    "        return X_train_pca, X_test_pca, y_train, y_test\n",
    "    \n",
    "    elif method == 'tsne':\n",
    "        # Standardize values via StandardScaler\n",
    "        sc = StandardScaler().fit(features_variable)\n",
    "        features_variable_std = sc.transform(features_variable)\n",
    "\n",
    "        tsne = TSNE(n_components=num_features, random_state=0, perplexity=50, n_iter=5000, method = 'exact')\n",
    "\n",
    "        # Calculate the 12 features via tSNE model\n",
    "        features_variable_tsne = pd.DataFrame(tsne.fit_transform(features_variable_std))\n",
    "\n",
    "        #Split into Train and Test\n",
    "        X_train, X_test, y_train, y_test = train_test_split(features_variable_tsne, target_variable, test_size = data_split,\n",
    "                                                   stratify=target_variable, random_state=0)\n",
    "        return X_train, X_test, y_train, y_test\n"
   ]
  },
  {
   "cell_type": "code",
   "execution_count": 17,
   "metadata": {},
   "outputs": [],
   "source": [
    "X_train, X_test, y_train, y_test = feature_reduction('tsne', 10, 0.3)"
   ]
  },
  {
   "cell_type": "code",
   "execution_count": 18,
   "metadata": {},
   "outputs": [
    {
     "data": {
      "text/html": [
       "<div>\n",
       "<style scoped>\n",
       "    .dataframe tbody tr th:only-of-type {\n",
       "        vertical-align: middle;\n",
       "    }\n",
       "\n",
       "    .dataframe tbody tr th {\n",
       "        vertical-align: top;\n",
       "    }\n",
       "\n",
       "    .dataframe thead th {\n",
       "        text-align: right;\n",
       "    }\n",
       "</style>\n",
       "<table border=\"1\" class=\"dataframe\">\n",
       "  <thead>\n",
       "    <tr style=\"text-align: right;\">\n",
       "      <th></th>\n",
       "      <th>0</th>\n",
       "      <th>1</th>\n",
       "      <th>2</th>\n",
       "      <th>3</th>\n",
       "      <th>4</th>\n",
       "      <th>5</th>\n",
       "      <th>6</th>\n",
       "      <th>7</th>\n",
       "      <th>8</th>\n",
       "      <th>9</th>\n",
       "    </tr>\n",
       "  </thead>\n",
       "  <tbody>\n",
       "    <tr>\n",
       "      <th>222</th>\n",
       "      <td>3.946346</td>\n",
       "      <td>-12.885464</td>\n",
       "      <td>-0.509796</td>\n",
       "      <td>-0.384011</td>\n",
       "      <td>1.873318</td>\n",
       "      <td>-0.807906</td>\n",
       "      <td>3.888238</td>\n",
       "      <td>10.464826</td>\n",
       "      <td>-1.165919</td>\n",
       "      <td>0.751666</td>\n",
       "    </tr>\n",
       "    <tr>\n",
       "      <th>255</th>\n",
       "      <td>1.296616</td>\n",
       "      <td>-4.477819</td>\n",
       "      <td>2.941146</td>\n",
       "      <td>-0.751147</td>\n",
       "      <td>-2.973345</td>\n",
       "      <td>2.887574</td>\n",
       "      <td>-8.747878</td>\n",
       "      <td>0.076179</td>\n",
       "      <td>-8.710191</td>\n",
       "      <td>-4.963955</td>\n",
       "    </tr>\n",
       "    <tr>\n",
       "      <th>420</th>\n",
       "      <td>4.398509</td>\n",
       "      <td>0.171529</td>\n",
       "      <td>6.032077</td>\n",
       "      <td>-10.551544</td>\n",
       "      <td>-2.683525</td>\n",
       "      <td>2.904293</td>\n",
       "      <td>6.558273</td>\n",
       "      <td>0.986148</td>\n",
       "      <td>-1.175675</td>\n",
       "      <td>0.322910</td>\n",
       "    </tr>\n",
       "    <tr>\n",
       "      <th>344</th>\n",
       "      <td>-0.541987</td>\n",
       "      <td>5.254478</td>\n",
       "      <td>-1.319121</td>\n",
       "      <td>-5.820622</td>\n",
       "      <td>2.456019</td>\n",
       "      <td>1.528531</td>\n",
       "      <td>-12.379393</td>\n",
       "      <td>-0.686732</td>\n",
       "      <td>4.326978</td>\n",
       "      <td>-0.366931</td>\n",
       "    </tr>\n",
       "    <tr>\n",
       "      <th>203</th>\n",
       "      <td>-2.110267</td>\n",
       "      <td>-0.509143</td>\n",
       "      <td>-6.949670</td>\n",
       "      <td>6.898934</td>\n",
       "      <td>-0.383837</td>\n",
       "      <td>1.604165</td>\n",
       "      <td>-10.325000</td>\n",
       "      <td>-5.249002</td>\n",
       "      <td>-2.693690</td>\n",
       "      <td>3.928116</td>\n",
       "    </tr>\n",
       "  </tbody>\n",
       "</table>\n",
       "</div>"
      ],
      "text/plain": [
       "            0          1         2          3         4         5          6   \n",
       "222  3.946346 -12.885464 -0.509796  -0.384011  1.873318 -0.807906   3.888238  \\\n",
       "255  1.296616  -4.477819  2.941146  -0.751147 -2.973345  2.887574  -8.747878   \n",
       "420  4.398509   0.171529  6.032077 -10.551544 -2.683525  2.904293   6.558273   \n",
       "344 -0.541987   5.254478 -1.319121  -5.820622  2.456019  1.528531 -12.379393   \n",
       "203 -2.110267  -0.509143 -6.949670   6.898934 -0.383837  1.604165 -10.325000   \n",
       "\n",
       "             7         8         9  \n",
       "222  10.464826 -1.165919  0.751666  \n",
       "255   0.076179 -8.710191 -4.963955  \n",
       "420   0.986148 -1.175675  0.322910  \n",
       "344  -0.686732  4.326978 -0.366931  \n",
       "203  -5.249002 -2.693690  3.928116  "
      ]
     },
     "metadata": {},
     "output_type": "display_data"
    },
    {
     "data": {
      "text/plain": [
       "(617, 56)"
      ]
     },
     "metadata": {},
     "output_type": "display_data"
    },
    {
     "data": {
      "text/plain": [
       "(431, 10)"
      ]
     },
     "metadata": {},
     "output_type": "display_data"
    }
   ],
   "source": [
    "display(X_train.head())\n",
    "\n",
    "# Display old features shape\n",
    "display(features_variable.shape)\n",
    "\n",
    "# Display new tSNE features shape\n",
    "display(X_train.shape)"
   ]
  },
  {
   "cell_type": "code",
   "execution_count": null,
   "metadata": {},
   "outputs": [],
   "source": []
  }
 ],
 "metadata": {
  "kernelspec": {
   "display_name": "w207_final",
   "language": "python",
   "name": "python3"
  },
  "language_info": {
   "codemirror_mode": {
    "name": "ipython",
    "version": 3
   },
   "file_extension": ".py",
   "mimetype": "text/x-python",
   "name": "python",
   "nbconvert_exporter": "python",
   "pygments_lexer": "ipython3",
   "version": "3.9.16"
  },
  "orig_nbformat": 4
 },
 "nbformat": 4,
 "nbformat_minor": 2
}
