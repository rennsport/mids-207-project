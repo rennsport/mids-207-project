{
 "cells": [
  {
   "cell_type": "markdown",
   "metadata": {},
   "source": [
    "## Dataset information as per Kaggle (https://www.kaggle.com/competitions/icr-identify-age-related-conditions/data)\n",
    "\n",
    "1. **train.csv** - The training set.\n",
    "   * `Id` Unique identifier for each observation.\n",
    "   * `AB-GL` Fifty-six anonymized health characteristics. All are numeric except for EJ, which is categorical.\n",
    "   * `Class` A binary target: 1 indicates the subject has been diagnosed with one of the three conditions, 0 indicates they have not.\n",
    "2. **test.csv** - The test set. Your goal is to predict the probability that a subject in this set belongs to each of the two classes.\n",
    "3. **greeks.csv** - Supplemental metadata, only available for the training set.\n",
    "   * `Alpha` Identifies the type of age-related condition, if present.\n",
    "     * `A` No age-related condition. Corresponds to class 0.\n",
    "     * `B`, `D`, `G` The three age-related conditions. Correspond to class 1.\n",
    "   * `Beta`, `Gamma`, `Delta` Three experimental characteristics.\n",
    "   * `Epsilon` The date the data for this subject was collected. Note that all of the data in the test set was collected after the training set was collected."
   ]
  },
  {
   "cell_type": "code",
   "execution_count": 8,
   "metadata": {},
   "outputs": [],
   "source": [
    "# standard\n",
    "import pandas as pd\n",
    "import numpy as np\n",
    "import random\n",
    "import os\n",
    "\n",
    "# tf, keras, and sklearn\n",
    "import tensorflow as tf\n",
    "from tensorflow.keras.preprocessing.image import ImageDataGenerator, array_to_img, img_to_array, load_img\n",
    "from keras import models\n",
    "from keras import layers\n",
    "from sklearn.preprocessing import StandardScaler\n",
    "from sklearn.impute import KNNImputer\n",
    "from sklearn.manifold import TSNE\n",
    "\n",
    "\n",
    "# plots and images\n",
    "import seaborn as sns\n",
    "import matplotlib.pyplot as plt\n",
    "from IPython.display import Image"
   ]
  },
  {
   "cell_type": "code",
   "execution_count": 9,
   "metadata": {},
   "outputs": [
    {
     "name": "stdout",
     "output_type": "stream",
     "text": [
      "Shape of greeks df: (617, 6)\n",
      "Shape of test df: (5, 57)\n",
      "Shape of train df: (617, 58)\n"
     ]
    }
   ],
   "source": [
    "greeks = pd.read_csv('../data/greeks.csv')\n",
    "test = pd.read_csv('../data/test.csv')\n",
    "train = pd.read_csv('../data/train.csv')\n",
    "\n",
    "greeks.columns = map(str.lower, greeks.columns)\n",
    "test.columns = map(str.lower, test.columns)\n",
    "train.columns = map(str.lower, train.columns)\n",
    "\n",
    "print('Shape of greeks df:', greeks.shape)\n",
    "print('Shape of test df:', test.shape)\n",
    "print('Shape of train df:', train.shape)\n",
    "\n",
    "# Merge train and greeks to get all columns in the same DataFrame\n",
    "df = pd.merge(train, greeks, on='id')"
   ]
  },
  {
   "cell_type": "code",
   "execution_count": 10,
   "metadata": {},
   "outputs": [],
   "source": [
    "df['ej'].replace(to_replace=['A', 'B'], value=[0, 1], inplace=True)\n",
    "\n",
    "# Multiclass\n",
    "target_variable_multiclass = df['alpha']\n",
    "\n",
    "# Binary\n",
    "target_variable = df['class']\n",
    "features_variable=df.drop(['class', 'id', 'alpha', 'beta', 'gamma', 'delta', 'epsilon'],axis=1)"
   ]
  },
  {
   "cell_type": "code",
   "execution_count": 11,
   "metadata": {},
   "outputs": [],
   "source": [
    "# Fill in NaN values\n",
    "imputer = KNNImputer(n_neighbors=2)\n",
    "features_variable = imputer.fit_transform(features_variable)\n",
    "\n",
    "# Standardize values\n",
    "standarized_data = StandardScaler().fit_transform(features_variable)\n",
    "\n",
    "# tSNE to keep 12 features\n",
    "model = TSNE(n_components=12, random_state=0,perplexity=50, n_iter=5000, method='exact')\n",
    "\n",
    "# Get our features\n",
    "tsne_features = model.fit_transform(standarized_data)"
   ]
  },
  {
   "cell_type": "code",
   "execution_count": 17,
   "metadata": {},
   "outputs": [
    {
     "data": {
      "text/html": [
       "<div>\n",
       "<style scoped>\n",
       "    .dataframe tbody tr th:only-of-type {\n",
       "        vertical-align: middle;\n",
       "    }\n",
       "\n",
       "    .dataframe tbody tr th {\n",
       "        vertical-align: top;\n",
       "    }\n",
       "\n",
       "    .dataframe thead th {\n",
       "        text-align: right;\n",
       "    }\n",
       "</style>\n",
       "<table border=\"1\" class=\"dataframe\">\n",
       "  <thead>\n",
       "    <tr style=\"text-align: right;\">\n",
       "      <th></th>\n",
       "      <th>0</th>\n",
       "      <th>1</th>\n",
       "      <th>2</th>\n",
       "      <th>3</th>\n",
       "      <th>4</th>\n",
       "      <th>5</th>\n",
       "      <th>6</th>\n",
       "      <th>7</th>\n",
       "      <th>8</th>\n",
       "      <th>9</th>\n",
       "      <th>10</th>\n",
       "      <th>11</th>\n",
       "    </tr>\n",
       "  </thead>\n",
       "  <tbody>\n",
       "    <tr>\n",
       "      <th>0</th>\n",
       "      <td>-0.396739</td>\n",
       "      <td>1.418988</td>\n",
       "      <td>6.536719</td>\n",
       "      <td>-0.599304</td>\n",
       "      <td>3.496097</td>\n",
       "      <td>0.397310</td>\n",
       "      <td>2.572014</td>\n",
       "      <td>-2.525381</td>\n",
       "      <td>-2.697865</td>\n",
       "      <td>-2.430291</td>\n",
       "      <td>6.295337</td>\n",
       "      <td>-6.202816</td>\n",
       "    </tr>\n",
       "    <tr>\n",
       "      <th>1</th>\n",
       "      <td>-0.145949</td>\n",
       "      <td>0.773972</td>\n",
       "      <td>0.601172</td>\n",
       "      <td>2.354358</td>\n",
       "      <td>3.173093</td>\n",
       "      <td>0.493702</td>\n",
       "      <td>0.384078</td>\n",
       "      <td>4.039861</td>\n",
       "      <td>-1.398307</td>\n",
       "      <td>-8.212885</td>\n",
       "      <td>-7.352618</td>\n",
       "      <td>1.137156</td>\n",
       "    </tr>\n",
       "    <tr>\n",
       "      <th>2</th>\n",
       "      <td>-0.914068</td>\n",
       "      <td>-9.540289</td>\n",
       "      <td>-2.439326</td>\n",
       "      <td>-1.074276</td>\n",
       "      <td>-2.873172</td>\n",
       "      <td>5.748519</td>\n",
       "      <td>1.505882</td>\n",
       "      <td>-1.919561</td>\n",
       "      <td>2.055977</td>\n",
       "      <td>0.926398</td>\n",
       "      <td>3.344955</td>\n",
       "      <td>4.421085</td>\n",
       "    </tr>\n",
       "    <tr>\n",
       "      <th>3</th>\n",
       "      <td>0.213694</td>\n",
       "      <td>-0.851135</td>\n",
       "      <td>-2.531490</td>\n",
       "      <td>0.367552</td>\n",
       "      <td>0.452652</td>\n",
       "      <td>-4.702112</td>\n",
       "      <td>-2.974192</td>\n",
       "      <td>-0.291760</td>\n",
       "      <td>4.750243</td>\n",
       "      <td>0.707520</td>\n",
       "      <td>-0.912372</td>\n",
       "      <td>7.766903</td>\n",
       "    </tr>\n",
       "    <tr>\n",
       "      <th>4</th>\n",
       "      <td>-4.719997</td>\n",
       "      <td>3.157185</td>\n",
       "      <td>-0.555827</td>\n",
       "      <td>4.228339</td>\n",
       "      <td>-4.961008</td>\n",
       "      <td>-2.026945</td>\n",
       "      <td>-0.174429</td>\n",
       "      <td>-1.053386</td>\n",
       "      <td>-6.764446</td>\n",
       "      <td>-0.988785</td>\n",
       "      <td>-0.237722</td>\n",
       "      <td>-0.250103</td>\n",
       "    </tr>\n",
       "  </tbody>\n",
       "</table>\n",
       "</div>"
      ],
      "text/plain": [
       "         0         1         2         3         4         5         6    \n",
       "0 -0.396739  1.418988  6.536719 -0.599304  3.496097  0.397310  2.572014  \\\n",
       "1 -0.145949  0.773972  0.601172  2.354358  3.173093  0.493702  0.384078   \n",
       "2 -0.914068 -9.540289 -2.439326 -1.074276 -2.873172  5.748519  1.505882   \n",
       "3  0.213694 -0.851135 -2.531490  0.367552  0.452652 -4.702112 -2.974192   \n",
       "4 -4.719997  3.157185 -0.555827  4.228339 -4.961008 -2.026945 -0.174429   \n",
       "\n",
       "         7         8         9         10        11  \n",
       "0 -2.525381 -2.697865 -2.430291  6.295337 -6.202816  \n",
       "1  4.039861 -1.398307 -8.212885 -7.352618  1.137156  \n",
       "2 -1.919561  2.055977  0.926398  3.344955  4.421085  \n",
       "3 -0.291760  4.750243  0.707520 -0.912372  7.766903  \n",
       "4 -1.053386 -6.764446 -0.988785 -0.237722 -0.250103  "
      ]
     },
     "metadata": {},
     "output_type": "display_data"
    },
    {
     "data": {
      "text/plain": [
       "(617, 12)"
      ]
     },
     "metadata": {},
     "output_type": "display_data"
    }
   ],
   "source": [
    "tsne_features = pd.DataFrame(tsne_features)\n",
    "display(tsne_features.head())\n",
    "display(tsne_features.shape)"
   ]
  },
  {
   "cell_type": "code",
   "execution_count": null,
   "metadata": {},
   "outputs": [],
   "source": []
  }
 ],
 "metadata": {
  "kernelspec": {
   "display_name": "w207_final",
   "language": "python",
   "name": "python3"
  },
  "language_info": {
   "codemirror_mode": {
    "name": "ipython",
    "version": 3
   },
   "file_extension": ".py",
   "mimetype": "text/x-python",
   "name": "python",
   "nbconvert_exporter": "python",
   "pygments_lexer": "ipython3",
   "version": "3.9.16"
  },
  "orig_nbformat": 4
 },
 "nbformat": 4,
 "nbformat_minor": 2
}
